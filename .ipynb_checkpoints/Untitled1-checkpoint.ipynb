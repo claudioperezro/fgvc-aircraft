{
 "cells": [
  {
   "cell_type": "code",
   "execution_count": 3,
   "id": "d628f260",
   "metadata": {},
   "outputs": [],
   "source": [
    "import pandas as pd"
   ]
  },
  {
   "cell_type": "code",
   "execution_count": 65,
   "id": "4c4ecacc",
   "metadata": {},
   "outputs": [],
   "source": [
    "family = pd.read_csv(\"./Data/fgvc-aircraft-2013b/fgvc-aircraft-2013b/data/images_family_train.txt\")"
   ]
  },
  {
   "cell_type": "code",
   "execution_count": 66,
   "id": "86a760f0",
   "metadata": {},
   "outputs": [
    {
     "data": {
      "text/html": [
       "<div>\n",
       "<style scoped>\n",
       "    .dataframe tbody tr th:only-of-type {\n",
       "        vertical-align: middle;\n",
       "    }\n",
       "\n",
       "    .dataframe tbody tr th {\n",
       "        vertical-align: top;\n",
       "    }\n",
       "\n",
       "    .dataframe thead th {\n",
       "        text-align: right;\n",
       "    }\n",
       "</style>\n",
       "<table border=\"1\" class=\"dataframe\">\n",
       "  <thead>\n",
       "    <tr style=\"text-align: right;\">\n",
       "      <th></th>\n",
       "      <th>Image</th>\n",
       "    </tr>\n",
       "  </thead>\n",
       "  <tbody>\n",
       "    <tr>\n",
       "      <th>0</th>\n",
       "      <td>1025794 Boeing 707</td>\n",
       "    </tr>\n",
       "    <tr>\n",
       "      <th>1</th>\n",
       "      <td>1340192 Boeing 707</td>\n",
       "    </tr>\n",
       "    <tr>\n",
       "      <th>2</th>\n",
       "      <td>0056978 Boeing 707</td>\n",
       "    </tr>\n",
       "    <tr>\n",
       "      <th>3</th>\n",
       "      <td>0698580 Boeing 707</td>\n",
       "    </tr>\n",
       "    <tr>\n",
       "      <th>4</th>\n",
       "      <td>0450014 Boeing 707</td>\n",
       "    </tr>\n",
       "    <tr>\n",
       "      <th>...</th>\n",
       "      <td>...</td>\n",
       "    </tr>\n",
       "    <tr>\n",
       "      <th>3329</th>\n",
       "      <td>1577680 Yak-42</td>\n",
       "    </tr>\n",
       "    <tr>\n",
       "      <th>3330</th>\n",
       "      <td>1826676 Yak-42</td>\n",
       "    </tr>\n",
       "    <tr>\n",
       "      <th>3331</th>\n",
       "      <td>0472681 Yak-42</td>\n",
       "    </tr>\n",
       "    <tr>\n",
       "      <th>3332</th>\n",
       "      <td>1597829 Yak-42</td>\n",
       "    </tr>\n",
       "    <tr>\n",
       "      <th>3333</th>\n",
       "      <td>0197891 Yak-42</td>\n",
       "    </tr>\n",
       "  </tbody>\n",
       "</table>\n",
       "<p>3334 rows × 1 columns</p>\n",
       "</div>"
      ],
      "text/plain": [
       "                   Image\n",
       "0     1025794 Boeing 707\n",
       "1     1340192 Boeing 707\n",
       "2     0056978 Boeing 707\n",
       "3     0698580 Boeing 707\n",
       "4     0450014 Boeing 707\n",
       "...                  ...\n",
       "3329      1577680 Yak-42\n",
       "3330      1826676 Yak-42\n",
       "3331      0472681 Yak-42\n",
       "3332      1597829 Yak-42\n",
       "3333      0197891 Yak-42\n",
       "\n",
       "[3334 rows x 1 columns]"
      ]
     },
     "execution_count": 66,
     "metadata": {},
     "output_type": "execute_result"
    }
   ],
   "source": [
    "family"
   ]
  },
  {
   "cell_type": "code",
   "execution_count": 36,
   "id": "0b0fcb81",
   "metadata": {},
   "outputs": [
    {
     "data": {
      "text/plain": [
       "Index(['Image'], dtype='object')"
      ]
     },
     "execution_count": 36,
     "metadata": {},
     "output_type": "execute_result"
    }
   ],
   "source": [
    "family.columns"
   ]
  },
  {
   "cell_type": "code",
   "execution_count": 37,
   "id": "97cbb74d",
   "metadata": {},
   "outputs": [
    {
     "data": {
      "text/plain": [
       "Image    1025794 Boeing 707\n",
       "Name: 0, dtype: object"
      ]
     },
     "execution_count": 37,
     "metadata": {},
     "output_type": "execute_result"
    }
   ],
   "source": [
    "family.iloc[0]"
   ]
  },
  {
   "cell_type": "code",
   "execution_count": 38,
   "id": "4924861e",
   "metadata": {},
   "outputs": [],
   "source": [
    "def return_family(element):\n",
    "    return element[8:]"
   ]
  },
  {
   "cell_type": "code",
   "execution_count": 41,
   "id": "08d993a2",
   "metadata": {},
   "outputs": [],
   "source": [
    "family_name = family[\"Image\"].apply(return_family)"
   ]
  },
  {
   "cell_type": "code",
   "execution_count": 42,
   "id": "aba9a9a4",
   "metadata": {},
   "outputs": [
    {
     "data": {
      "text/plain": [
       "pandas.core.series.Series"
      ]
     },
     "execution_count": 42,
     "metadata": {},
     "output_type": "execute_result"
    }
   ],
   "source": [
    "type(family_name)"
   ]
  },
  {
   "cell_type": "code",
   "execution_count": 43,
   "id": "553081f8",
   "metadata": {},
   "outputs": [
    {
     "data": {
      "text/html": [
       "<div>\n",
       "<style scoped>\n",
       "    .dataframe tbody tr th:only-of-type {\n",
       "        vertical-align: middle;\n",
       "    }\n",
       "\n",
       "    .dataframe tbody tr th {\n",
       "        vertical-align: top;\n",
       "    }\n",
       "\n",
       "    .dataframe thead th {\n",
       "        text-align: right;\n",
       "    }\n",
       "</style>\n",
       "<table border=\"1\" class=\"dataframe\">\n",
       "  <thead>\n",
       "    <tr style=\"text-align: right;\">\n",
       "      <th></th>\n",
       "      <th>Image</th>\n",
       "      <th>Image</th>\n",
       "    </tr>\n",
       "  </thead>\n",
       "  <tbody>\n",
       "    <tr>\n",
       "      <th>0</th>\n",
       "      <td>1025794 Boeing 707</td>\n",
       "      <td>Boeing 707</td>\n",
       "    </tr>\n",
       "    <tr>\n",
       "      <th>1</th>\n",
       "      <td>1340192 Boeing 707</td>\n",
       "      <td>Boeing 707</td>\n",
       "    </tr>\n",
       "    <tr>\n",
       "      <th>2</th>\n",
       "      <td>0056978 Boeing 707</td>\n",
       "      <td>Boeing 707</td>\n",
       "    </tr>\n",
       "    <tr>\n",
       "      <th>3</th>\n",
       "      <td>0698580 Boeing 707</td>\n",
       "      <td>Boeing 707</td>\n",
       "    </tr>\n",
       "    <tr>\n",
       "      <th>4</th>\n",
       "      <td>0450014 Boeing 707</td>\n",
       "      <td>Boeing 707</td>\n",
       "    </tr>\n",
       "    <tr>\n",
       "      <th>...</th>\n",
       "      <td>...</td>\n",
       "      <td>...</td>\n",
       "    </tr>\n",
       "    <tr>\n",
       "      <th>3329</th>\n",
       "      <td>1577680 Yak-42</td>\n",
       "      <td>Yak-42</td>\n",
       "    </tr>\n",
       "    <tr>\n",
       "      <th>3330</th>\n",
       "      <td>1826676 Yak-42</td>\n",
       "      <td>Yak-42</td>\n",
       "    </tr>\n",
       "    <tr>\n",
       "      <th>3331</th>\n",
       "      <td>0472681 Yak-42</td>\n",
       "      <td>Yak-42</td>\n",
       "    </tr>\n",
       "    <tr>\n",
       "      <th>3332</th>\n",
       "      <td>1597829 Yak-42</td>\n",
       "      <td>Yak-42</td>\n",
       "    </tr>\n",
       "    <tr>\n",
       "      <th>3333</th>\n",
       "      <td>0197891 Yak-42</td>\n",
       "      <td>Yak-42</td>\n",
       "    </tr>\n",
       "  </tbody>\n",
       "</table>\n",
       "<p>3334 rows × 2 columns</p>\n",
       "</div>"
      ],
      "text/plain": [
       "                   Image       Image\n",
       "0     1025794 Boeing 707  Boeing 707\n",
       "1     1340192 Boeing 707  Boeing 707\n",
       "2     0056978 Boeing 707  Boeing 707\n",
       "3     0698580 Boeing 707  Boeing 707\n",
       "4     0450014 Boeing 707  Boeing 707\n",
       "...                  ...         ...\n",
       "3329      1577680 Yak-42      Yak-42\n",
       "3330      1826676 Yak-42      Yak-42\n",
       "3331      0472681 Yak-42      Yak-42\n",
       "3332      1597829 Yak-42      Yak-42\n",
       "3333      0197891 Yak-42      Yak-42\n",
       "\n",
       "[3334 rows x 2 columns]"
      ]
     },
     "execution_count": 43,
     "metadata": {},
     "output_type": "execute_result"
    }
   ],
   "source": [
    "pd.concat([family, family_name], axis=1)"
   ]
  },
  {
   "cell_type": "code",
   "execution_count": 46,
   "id": "624dbdf6",
   "metadata": {},
   "outputs": [],
   "source": [
    "first_element = {\"Image\":[\"1340192\"],\n",
    "                \"family\":[\"Boeing 707\"]}\n",
    "a = pd.DataFrame(first_element, columns=[\"Image\", \"family\" ])"
   ]
  },
  {
   "cell_type": "code",
   "execution_count": 47,
   "id": "fdb96142",
   "metadata": {},
   "outputs": [
    {
     "data": {
      "text/html": [
       "<div>\n",
       "<style scoped>\n",
       "    .dataframe tbody tr th:only-of-type {\n",
       "        vertical-align: middle;\n",
       "    }\n",
       "\n",
       "    .dataframe tbody tr th {\n",
       "        vertical-align: top;\n",
       "    }\n",
       "\n",
       "    .dataframe thead th {\n",
       "        text-align: right;\n",
       "    }\n",
       "</style>\n",
       "<table border=\"1\" class=\"dataframe\">\n",
       "  <thead>\n",
       "    <tr style=\"text-align: right;\">\n",
       "      <th></th>\n",
       "      <th>Image</th>\n",
       "      <th>family</th>\n",
       "    </tr>\n",
       "  </thead>\n",
       "  <tbody>\n",
       "    <tr>\n",
       "      <th>0</th>\n",
       "      <td>1340192</td>\n",
       "      <td>Boeing 707</td>\n",
       "    </tr>\n",
       "  </tbody>\n",
       "</table>\n",
       "</div>"
      ],
      "text/plain": [
       "     Image      family\n",
       "0  1340192  Boeing 707"
      ]
     },
     "execution_count": 47,
     "metadata": {},
     "output_type": "execute_result"
    }
   ],
   "source": [
    "a"
   ]
  },
  {
   "cell_type": "code",
   "execution_count": 48,
   "id": "5612b842",
   "metadata": {},
   "outputs": [],
   "source": [
    "def return_family(element):\n",
    "    return element[:7] + \".jpg\""
   ]
  },
  {
   "cell_type": "code",
   "execution_count": 49,
   "id": "4e5797da",
   "metadata": {},
   "outputs": [
    {
     "data": {
      "text/html": [
       "<div>\n",
       "<style scoped>\n",
       "    .dataframe tbody tr th:only-of-type {\n",
       "        vertical-align: middle;\n",
       "    }\n",
       "\n",
       "    .dataframe tbody tr th {\n",
       "        vertical-align: top;\n",
       "    }\n",
       "\n",
       "    .dataframe thead th {\n",
       "        text-align: right;\n",
       "    }\n",
       "</style>\n",
       "<table border=\"1\" class=\"dataframe\">\n",
       "  <thead>\n",
       "    <tr style=\"text-align: right;\">\n",
       "      <th></th>\n",
       "      <th>pene</th>\n",
       "    </tr>\n",
       "  </thead>\n",
       "  <tbody>\n",
       "    <tr>\n",
       "      <th>0</th>\n",
       "      <td>1025794 Boeing 707</td>\n",
       "    </tr>\n",
       "    <tr>\n",
       "      <th>1</th>\n",
       "      <td>1340192 Boeing 707</td>\n",
       "    </tr>\n",
       "    <tr>\n",
       "      <th>2</th>\n",
       "      <td>0056978 Boeing 707</td>\n",
       "    </tr>\n",
       "    <tr>\n",
       "      <th>3</th>\n",
       "      <td>0698580 Boeing 707</td>\n",
       "    </tr>\n",
       "    <tr>\n",
       "      <th>4</th>\n",
       "      <td>0450014 Boeing 707</td>\n",
       "    </tr>\n",
       "    <tr>\n",
       "      <th>...</th>\n",
       "      <td>...</td>\n",
       "    </tr>\n",
       "    <tr>\n",
       "      <th>3329</th>\n",
       "      <td>1577680 Yak-42</td>\n",
       "    </tr>\n",
       "    <tr>\n",
       "      <th>3330</th>\n",
       "      <td>1826676 Yak-42</td>\n",
       "    </tr>\n",
       "    <tr>\n",
       "      <th>3331</th>\n",
       "      <td>0472681 Yak-42</td>\n",
       "    </tr>\n",
       "    <tr>\n",
       "      <th>3332</th>\n",
       "      <td>1597829 Yak-42</td>\n",
       "    </tr>\n",
       "    <tr>\n",
       "      <th>3333</th>\n",
       "      <td>0197891 Yak-42</td>\n",
       "    </tr>\n",
       "  </tbody>\n",
       "</table>\n",
       "<p>3334 rows × 1 columns</p>\n",
       "</div>"
      ],
      "text/plain": [
       "                    pene\n",
       "0     1025794 Boeing 707\n",
       "1     1340192 Boeing 707\n",
       "2     0056978 Boeing 707\n",
       "3     0698580 Boeing 707\n",
       "4     0450014 Boeing 707\n",
       "...                  ...\n",
       "3329      1577680 Yak-42\n",
       "3330      1826676 Yak-42\n",
       "3331      0472681 Yak-42\n",
       "3332      1597829 Yak-42\n",
       "3333      0197891 Yak-42\n",
       "\n",
       "[3334 rows x 1 columns]"
      ]
     },
     "execution_count": 49,
     "metadata": {},
     "output_type": "execute_result"
    }
   ],
   "source": [
    "rename(columns={\"Image\":\"pene\"})"
   ]
  },
  {
   "cell_type": "code",
   "execution_count": 51,
   "id": "7a0163e2",
   "metadata": {},
   "outputs": [],
   "source": [
    "image_name = family[\"Image\"].apply(return_family)"
   ]
  },
  {
   "cell_type": "code",
   "execution_count": 52,
   "id": "1e14f4da",
   "metadata": {},
   "outputs": [
    {
     "ename": "TypeError",
     "evalue": "rename() got an unexpected keyword argument 'columns'",
     "output_type": "error",
     "traceback": [
      "\u001b[0;31m---------------------------------------------------------------------------\u001b[0m",
      "\u001b[0;31mTypeError\u001b[0m                                 Traceback (most recent call last)",
      "\u001b[0;32m/var/folders/qt/9cy286_16658z0br5lg3q8k00000gn/T/ipykernel_1513/3570406316.py\u001b[0m in \u001b[0;36m<module>\u001b[0;34m\u001b[0m\n\u001b[0;32m----> 1\u001b[0;31m \u001b[0mimage_name\u001b[0m\u001b[0;34m.\u001b[0m\u001b[0mrename\u001b[0m\u001b[0;34m(\u001b[0m\u001b[0mcolumns\u001b[0m\u001b[0;34m=\u001b[0m\u001b[0;34m{\u001b[0m\u001b[0;34m\"Image\"\u001b[0m\u001b[0;34m:\u001b[0m\u001b[0;34m\"pene\"\u001b[0m\u001b[0;34m}\u001b[0m\u001b[0;34m)\u001b[0m\u001b[0;34m\u001b[0m\u001b[0;34m\u001b[0m\u001b[0m\n\u001b[0m",
      "\u001b[0;31mTypeError\u001b[0m: rename() got an unexpected keyword argument 'columns'"
     ]
    }
   ],
   "source": [
    "image_name.rename(columns={\"Image\":\"pene\"})"
   ]
  },
  {
   "cell_type": "code",
   "execution_count": 55,
   "id": "590f409b",
   "metadata": {},
   "outputs": [
    {
     "data": {
      "text/html": [
       "<div>\n",
       "<style scoped>\n",
       "    .dataframe tbody tr th:only-of-type {\n",
       "        vertical-align: middle;\n",
       "    }\n",
       "\n",
       "    .dataframe tbody tr th {\n",
       "        vertical-align: top;\n",
       "    }\n",
       "\n",
       "    .dataframe thead th {\n",
       "        text-align: right;\n",
       "    }\n",
       "</style>\n",
       "<table border=\"1\" class=\"dataframe\">\n",
       "  <thead>\n",
       "    <tr style=\"text-align: right;\">\n",
       "      <th></th>\n",
       "      <th>image</th>\n",
       "    </tr>\n",
       "  </thead>\n",
       "  <tbody>\n",
       "    <tr>\n",
       "      <th>0</th>\n",
       "      <td>1025794.jpg</td>\n",
       "    </tr>\n",
       "    <tr>\n",
       "      <th>1</th>\n",
       "      <td>1340192.jpg</td>\n",
       "    </tr>\n",
       "    <tr>\n",
       "      <th>2</th>\n",
       "      <td>0056978.jpg</td>\n",
       "    </tr>\n",
       "    <tr>\n",
       "      <th>3</th>\n",
       "      <td>0698580.jpg</td>\n",
       "    </tr>\n",
       "    <tr>\n",
       "      <th>4</th>\n",
       "      <td>0450014.jpg</td>\n",
       "    </tr>\n",
       "    <tr>\n",
       "      <th>...</th>\n",
       "      <td>...</td>\n",
       "    </tr>\n",
       "    <tr>\n",
       "      <th>3329</th>\n",
       "      <td>1577680.jpg</td>\n",
       "    </tr>\n",
       "    <tr>\n",
       "      <th>3330</th>\n",
       "      <td>1826676.jpg</td>\n",
       "    </tr>\n",
       "    <tr>\n",
       "      <th>3331</th>\n",
       "      <td>0472681.jpg</td>\n",
       "    </tr>\n",
       "    <tr>\n",
       "      <th>3332</th>\n",
       "      <td>1597829.jpg</td>\n",
       "    </tr>\n",
       "    <tr>\n",
       "      <th>3333</th>\n",
       "      <td>0197891.jpg</td>\n",
       "    </tr>\n",
       "  </tbody>\n",
       "</table>\n",
       "<p>3334 rows × 1 columns</p>\n",
       "</div>"
      ],
      "text/plain": [
       "            image\n",
       "0     1025794.jpg\n",
       "1     1340192.jpg\n",
       "2     0056978.jpg\n",
       "3     0698580.jpg\n",
       "4     0450014.jpg\n",
       "...           ...\n",
       "3329  1577680.jpg\n",
       "3330  1826676.jpg\n",
       "3331  0472681.jpg\n",
       "3332  1597829.jpg\n",
       "3333  0197891.jpg\n",
       "\n",
       "[3334 rows x 1 columns]"
      ]
     },
     "execution_count": 55,
     "metadata": {},
     "output_type": "execute_result"
    }
   ],
   "source": [
    "image_name.to_frame(name=\"image\")"
   ]
  },
  {
   "cell_type": "code",
   "execution_count": 61,
   "id": "2fe782df",
   "metadata": {},
   "outputs": [],
   "source": [
    "family_name = family_name.to_frame(\"family_name\")"
   ]
  },
  {
   "cell_type": "code",
   "execution_count": 62,
   "id": "8de15621",
   "metadata": {},
   "outputs": [],
   "source": [
    "data = pd.concat([image_name, family_name], axis=1)"
   ]
  },
  {
   "cell_type": "code",
   "execution_count": 63,
   "id": "64430eda",
   "metadata": {},
   "outputs": [
    {
     "data": {
      "text/html": [
       "<div>\n",
       "<style scoped>\n",
       "    .dataframe tbody tr th:only-of-type {\n",
       "        vertical-align: middle;\n",
       "    }\n",
       "\n",
       "    .dataframe tbody tr th {\n",
       "        vertical-align: top;\n",
       "    }\n",
       "\n",
       "    .dataframe thead th {\n",
       "        text-align: right;\n",
       "    }\n",
       "</style>\n",
       "<table border=\"1\" class=\"dataframe\">\n",
       "  <thead>\n",
       "    <tr style=\"text-align: right;\">\n",
       "      <th></th>\n",
       "      <th>Image</th>\n",
       "      <th>family_name</th>\n",
       "    </tr>\n",
       "  </thead>\n",
       "  <tbody>\n",
       "    <tr>\n",
       "      <th>0</th>\n",
       "      <td>1025794.jpg</td>\n",
       "      <td>Boeing 707</td>\n",
       "    </tr>\n",
       "    <tr>\n",
       "      <th>1</th>\n",
       "      <td>1340192.jpg</td>\n",
       "      <td>Boeing 707</td>\n",
       "    </tr>\n",
       "    <tr>\n",
       "      <th>2</th>\n",
       "      <td>0056978.jpg</td>\n",
       "      <td>Boeing 707</td>\n",
       "    </tr>\n",
       "    <tr>\n",
       "      <th>3</th>\n",
       "      <td>0698580.jpg</td>\n",
       "      <td>Boeing 707</td>\n",
       "    </tr>\n",
       "    <tr>\n",
       "      <th>4</th>\n",
       "      <td>0450014.jpg</td>\n",
       "      <td>Boeing 707</td>\n",
       "    </tr>\n",
       "    <tr>\n",
       "      <th>...</th>\n",
       "      <td>...</td>\n",
       "      <td>...</td>\n",
       "    </tr>\n",
       "    <tr>\n",
       "      <th>3329</th>\n",
       "      <td>1577680.jpg</td>\n",
       "      <td>Yak-42</td>\n",
       "    </tr>\n",
       "    <tr>\n",
       "      <th>3330</th>\n",
       "      <td>1826676.jpg</td>\n",
       "      <td>Yak-42</td>\n",
       "    </tr>\n",
       "    <tr>\n",
       "      <th>3331</th>\n",
       "      <td>0472681.jpg</td>\n",
       "      <td>Yak-42</td>\n",
       "    </tr>\n",
       "    <tr>\n",
       "      <th>3332</th>\n",
       "      <td>1597829.jpg</td>\n",
       "      <td>Yak-42</td>\n",
       "    </tr>\n",
       "    <tr>\n",
       "      <th>3333</th>\n",
       "      <td>0197891.jpg</td>\n",
       "      <td>Yak-42</td>\n",
       "    </tr>\n",
       "  </tbody>\n",
       "</table>\n",
       "<p>3334 rows × 2 columns</p>\n",
       "</div>"
      ],
      "text/plain": [
       "            Image family_name\n",
       "0     1025794.jpg  Boeing 707\n",
       "1     1340192.jpg  Boeing 707\n",
       "2     0056978.jpg  Boeing 707\n",
       "3     0698580.jpg  Boeing 707\n",
       "4     0450014.jpg  Boeing 707\n",
       "...           ...         ...\n",
       "3329  1577680.jpg      Yak-42\n",
       "3330  1826676.jpg      Yak-42\n",
       "3331  0472681.jpg      Yak-42\n",
       "3332  1597829.jpg      Yak-42\n",
       "3333  0197891.jpg      Yak-42\n",
       "\n",
       "[3334 rows x 2 columns]"
      ]
     },
     "execution_count": 63,
     "metadata": {},
     "output_type": "execute_result"
    }
   ],
   "source": [
    "data"
   ]
  },
  {
   "cell_type": "code",
   "execution_count": 69,
   "id": "5fcd9d81",
   "metadata": {},
   "outputs": [],
   "source": [
    "def return_family(element):\n",
    "    return element[8:]\n",
    "\n",
    "def return_image(element):\n",
    "    return element[:7] + \".jpg\"\n",
    "\n",
    "def family_creator(df):\n",
    "    image_name = df[\"Image\"].apply(return_image).to_frame(\"image\")\n",
    "    family_name =  df[\"Image\"].apply(return_family).to_frame(\"family\")\n",
    "    return pd.concat([image_name, family_name], axis=1)\n",
    "\n",
    "    "
   ]
  },
  {
   "cell_type": "code",
   "execution_count": 70,
   "id": "8890d447",
   "metadata": {},
   "outputs": [],
   "source": [
    "test = family_creator(family)"
   ]
  },
  {
   "cell_type": "code",
   "execution_count": 71,
   "id": "09aabbae",
   "metadata": {},
   "outputs": [
    {
     "data": {
      "text/html": [
       "<div>\n",
       "<style scoped>\n",
       "    .dataframe tbody tr th:only-of-type {\n",
       "        vertical-align: middle;\n",
       "    }\n",
       "\n",
       "    .dataframe tbody tr th {\n",
       "        vertical-align: top;\n",
       "    }\n",
       "\n",
       "    .dataframe thead th {\n",
       "        text-align: right;\n",
       "    }\n",
       "</style>\n",
       "<table border=\"1\" class=\"dataframe\">\n",
       "  <thead>\n",
       "    <tr style=\"text-align: right;\">\n",
       "      <th></th>\n",
       "      <th>image</th>\n",
       "      <th>family</th>\n",
       "    </tr>\n",
       "  </thead>\n",
       "  <tbody>\n",
       "    <tr>\n",
       "      <th>0</th>\n",
       "      <td>1025794.jpg</td>\n",
       "      <td>Boeing 707</td>\n",
       "    </tr>\n",
       "    <tr>\n",
       "      <th>1</th>\n",
       "      <td>1340192.jpg</td>\n",
       "      <td>Boeing 707</td>\n",
       "    </tr>\n",
       "    <tr>\n",
       "      <th>2</th>\n",
       "      <td>0056978.jpg</td>\n",
       "      <td>Boeing 707</td>\n",
       "    </tr>\n",
       "    <tr>\n",
       "      <th>3</th>\n",
       "      <td>0698580.jpg</td>\n",
       "      <td>Boeing 707</td>\n",
       "    </tr>\n",
       "    <tr>\n",
       "      <th>4</th>\n",
       "      <td>0450014.jpg</td>\n",
       "      <td>Boeing 707</td>\n",
       "    </tr>\n",
       "    <tr>\n",
       "      <th>...</th>\n",
       "      <td>...</td>\n",
       "      <td>...</td>\n",
       "    </tr>\n",
       "    <tr>\n",
       "      <th>3329</th>\n",
       "      <td>1577680.jpg</td>\n",
       "      <td>Yak-42</td>\n",
       "    </tr>\n",
       "    <tr>\n",
       "      <th>3330</th>\n",
       "      <td>1826676.jpg</td>\n",
       "      <td>Yak-42</td>\n",
       "    </tr>\n",
       "    <tr>\n",
       "      <th>3331</th>\n",
       "      <td>0472681.jpg</td>\n",
       "      <td>Yak-42</td>\n",
       "    </tr>\n",
       "    <tr>\n",
       "      <th>3332</th>\n",
       "      <td>1597829.jpg</td>\n",
       "      <td>Yak-42</td>\n",
       "    </tr>\n",
       "    <tr>\n",
       "      <th>3333</th>\n",
       "      <td>0197891.jpg</td>\n",
       "      <td>Yak-42</td>\n",
       "    </tr>\n",
       "  </tbody>\n",
       "</table>\n",
       "<p>3334 rows × 2 columns</p>\n",
       "</div>"
      ],
      "text/plain": [
       "            image      family\n",
       "0     1025794.jpg  Boeing 707\n",
       "1     1340192.jpg  Boeing 707\n",
       "2     0056978.jpg  Boeing 707\n",
       "3     0698580.jpg  Boeing 707\n",
       "4     0450014.jpg  Boeing 707\n",
       "...           ...         ...\n",
       "3329  1577680.jpg      Yak-42\n",
       "3330  1826676.jpg      Yak-42\n",
       "3331  0472681.jpg      Yak-42\n",
       "3332  1597829.jpg      Yak-42\n",
       "3333  0197891.jpg      Yak-42\n",
       "\n",
       "[3334 rows x 2 columns]"
      ]
     },
     "execution_count": 71,
     "metadata": {},
     "output_type": "execute_result"
    }
   ],
   "source": [
    "test"
   ]
  },
  {
   "cell_type": "code",
   "execution_count": null,
   "id": "fc53a4be",
   "metadata": {},
   "outputs": [],
   "source": []
  }
 ],
 "metadata": {
  "kernelspec": {
   "display_name": "learn-env",
   "language": "python",
   "name": "learn-env"
  },
  "language_info": {
   "codemirror_mode": {
    "name": "ipython",
    "version": 3
   },
   "file_extension": ".py",
   "mimetype": "text/x-python",
   "name": "python",
   "nbconvert_exporter": "python",
   "pygments_lexer": "ipython3",
   "version": "3.7.10"
  }
 },
 "nbformat": 4,
 "nbformat_minor": 5
}
